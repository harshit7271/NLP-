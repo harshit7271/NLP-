{
 "cells": [
  {
   "cell_type": "markdown",
   "id": "7afc4d41-640d-4293-968a-7cf9cb718115",
   "metadata": {},
   "source": [
    "# Bag Of Words Implimentation"
   ]
  },
  {
   "cell_type": "code",
   "execution_count": 1,
   "id": "3d5b14cc-19f0-4ad3-8e54-9ca8ffec3e82",
   "metadata": {},
   "outputs": [],
   "source": [
    "from sklearn.feature_extraction.text import CountVectorizer"
   ]
  },
  {
   "cell_type": "code",
   "execution_count": 2,
   "id": "1dda9e17-01bf-43fd-8c39-4a05c9d63b18",
   "metadata": {},
   "outputs": [],
   "source": [
    "documents = [\n",
    "    \"I love pizza\", \n",
    "    \"Pizza is the best\",\n",
    "    \"I love pasta\", \n",
    "    \"Pasta is great pasta\"\n",
    "]\n",
    "\n",
    "vectorizer = CountVectorizer()\n",
    "\n",
    "X = vectorizer.fit_transform(documents)"
   ]
  },
  {
   "cell_type": "code",
   "execution_count": 3,
   "id": "64cff317-f5a1-441d-a99e-1fc65972b65c",
   "metadata": {},
   "outputs": [
    {
     "name": "stdout",
     "output_type": "stream",
     "text": [
      "Vocabulary ['best' 'great' 'is' 'love' 'pasta' 'pizza' 'the']\n"
     ]
    }
   ],
   "source": [
    "print(\"Vocabulary\", vectorizer.get_feature_names_out())"
   ]
  },
  {
   "cell_type": "code",
   "execution_count": 4,
   "id": "9e311242-459d-4c8f-a2bc-a5ddadec7e02",
   "metadata": {},
   "outputs": [
    {
     "name": "stdout",
     "output_type": "stream",
     "text": [
      "\n",
      "BoW Matrix:\n",
      " [[0 0 0 1 0 1 0]\n",
      " [1 0 1 0 0 1 1]\n",
      " [0 0 0 1 1 0 0]\n",
      " [0 1 1 0 2 0 0]]\n"
     ]
    }
   ],
   "source": [
    "print(\"\\nBoW Matrix:\\n\", X.toarray())"
   ]
  },
  {
   "cell_type": "code",
   "execution_count": 6,
   "id": "60c1b4e8-f7a1-4514-a15a-9115d25e59b0",
   "metadata": {},
   "outputs": [
    {
     "name": "stdout",
     "output_type": "stream",
     "text": [
      "Vocabulary ['great pasta' 'is great' 'is the' 'love pasta' 'love pizza' 'pasta is'\n",
      " 'pizza is' 'the best']\n",
      "\n",
      "BoW Matrix:\n",
      " [[0 0 0 0 1 0 0 0]\n",
      " [0 0 1 0 0 0 1 1]\n",
      " [0 0 0 1 0 0 0 0]\n",
      " [1 1 0 0 0 1 0 0]]\n"
     ]
    }
   ],
   "source": [
    "documents = [\n",
    "    \"I love pizza\", \n",
    "    \"Pizza is the best\",\n",
    "    \"I love pasta\", \n",
    "    \"Pasta is great pasta\"\n",
    "]\n",
    "\n",
    "vectorizer = CountVectorizer(ngram_range=(2,2))\n",
    "\n",
    "X = vectorizer.fit_transform(documents)\n",
    "print(\"Vocabulary\", vectorizer.get_feature_names_out())\n",
    "print(\"\\nBoW Matrix:\\n\", X.toarray())"
   ]
  },
  {
   "cell_type": "code",
   "execution_count": null,
   "id": "c63b9815-96b9-4b9d-a62f-7cd0294474fc",
   "metadata": {},
   "outputs": [],
   "source": []
  }
 ],
 "metadata": {
  "kernelspec": {
   "display_name": "Python [conda env:base] *",
   "language": "python",
   "name": "conda-base-py"
  },
  "language_info": {
   "codemirror_mode": {
    "name": "ipython",
    "version": 3
   },
   "file_extension": ".py",
   "mimetype": "text/x-python",
   "name": "python",
   "nbconvert_exporter": "python",
   "pygments_lexer": "ipython3",
   "version": "3.13.5"
  }
 },
 "nbformat": 4,
 "nbformat_minor": 5
}
