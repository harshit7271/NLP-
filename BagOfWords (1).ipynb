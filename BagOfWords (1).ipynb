{
 "cells": [
  {
   "cell_type": "markdown",
   "id": "7afc4d41-640d-4293-968a-7cf9cb718115",
   "metadata": {},
   "source": [
    "# Bag Of Words Implimentation"
   ]
  },
  {
   "cell_type": "code",
   "execution_count": 5,
   "id": "3d5b14cc-19f0-4ad3-8e54-9ca8ffec3e82",
   "metadata": {},
   "outputs": [],
   "source": [
    "from sklearn.feature_extraction.text import CountVectorizer, TfidfVectorizer"
   ]
  },
  {
   "cell_type": "code",
   "execution_count": 7,
   "id": "b54b03f5-2422-4343-9dbe-e52eb97b9d5e",
   "metadata": {},
   "outputs": [],
   "source": [
    "documents = [\n",
    "    \"I love pizza\", \n",
    "    \"Pizza is the best\",\n",
    "    \"I love pasta\", \n",
    "    \"Pasta is great pasta\"\n",
    "]\n",
    "\n",
    "vectorizer = CountVectorizer(ngram_range=(2,2))\n",
    "\n",
    "X = vectorizer.fit_transform(documents)\n"
   ]
  },
  {
   "cell_type": "code",
   "execution_count": 8,
   "id": "64cff317-f5a1-441d-a99e-1fc65972b65c",
   "metadata": {},
   "outputs": [
    {
     "name": "stdout",
     "output_type": "stream",
     "text": [
      "Vocabulary ['great pasta' 'is great' 'is the' 'love pasta' 'love pizza' 'pasta is'\n",
      " 'pizza is' 'the best']\n"
     ]
    }
   ],
   "source": [
    "print(\"Vocabulary\", vectorizer.get_feature_names_out())"
   ]
  },
  {
   "cell_type": "code",
   "execution_count": 9,
   "id": "9e311242-459d-4c8f-a2bc-a5ddadec7e02",
   "metadata": {},
   "outputs": [
    {
     "name": "stdout",
     "output_type": "stream",
     "text": [
      "\n",
      "BoW Matrix:\n",
      " [[0 0 0 0 1 0 0 0]\n",
      " [0 0 1 0 0 0 1 1]\n",
      " [0 0 0 1 0 0 0 0]\n",
      " [1 1 0 0 0 1 0 0]]\n"
     ]
    }
   ],
   "source": [
    "print(\"\\nBoW Matrix:\\n\", X.toarray())"
   ]
  },
  {
   "cell_type": "markdown",
   "id": "d97f0f28-15b1-41f4-9ec1-1fb9a9d1381a",
   "metadata": {},
   "source": [
    "# TfidfVectorizer"
   ]
  },
  {
   "cell_type": "code",
   "execution_count": 10,
   "id": "2d6f51f8-0221-45f4-b7f4-e088cbdd3fe3",
   "metadata": {},
   "outputs": [],
   "source": [
    "vectorizer1 = TfidfVectorizer(ngram_range=(1,3))"
   ]
  },
  {
   "cell_type": "code",
   "execution_count": 11,
   "id": "3852405d-834b-43f5-b788-fb7c0f9383b2",
   "metadata": {},
   "outputs": [],
   "source": [
    "X = vectorizer1.fit_transform(documents)\n"
   ]
  },
  {
   "cell_type": "code",
   "execution_count": 12,
   "id": "1206e623-492c-418b-8382-31a2853033fc",
   "metadata": {},
   "outputs": [
    {
     "name": "stdout",
     "output_type": "stream",
     "text": [
      "Vocabulary ['best' 'great' 'great pasta' 'is' 'is great' 'is great pasta' 'is the'\n",
      " 'is the best' 'love' 'love pasta' 'love pizza' 'pasta' 'pasta is'\n",
      " 'pasta is great' 'pizza' 'pizza is' 'pizza is the' 'the' 'the best']\n"
     ]
    }
   ],
   "source": [
    "print(\"Vocabulary\", vectorizer1.get_feature_names_out())"
   ]
  },
  {
   "cell_type": "code",
   "execution_count": 13,
   "id": "1f3a2c83-a61f-4a6f-9c4a-e05057ae46c0",
   "metadata": {},
   "outputs": [
    {
     "name": "stdout",
     "output_type": "stream",
     "text": [
      "\n",
      "BoW Matrix:\n",
      " [[0.         0.         0.         0.         0.         0.\n",
      "  0.         0.         0.52640543 0.         0.66767854 0.\n",
      "  0.         0.         0.52640543 0.         0.         0.\n",
      "  0.        ]\n",
      " [0.34829919 0.         0.         0.27460308 0.         0.\n",
      "  0.34829919 0.34829919 0.         0.         0.         0.\n",
      "  0.         0.         0.27460308 0.34829919 0.34829919 0.34829919\n",
      "  0.34829919]\n",
      " [0.         0.         0.         0.         0.         0.\n",
      "  0.         0.         0.52640543 0.66767854 0.         0.52640543\n",
      "  0.         0.         0.         0.         0.         0.\n",
      "  0.        ]\n",
      " [0.         0.33135182 0.33135182 0.26124158 0.33135182 0.33135182\n",
      "  0.         0.         0.         0.         0.         0.52248316\n",
      "  0.33135182 0.33135182 0.         0.         0.         0.\n",
      "  0.        ]]\n"
     ]
    }
   ],
   "source": [
    "print(\"\\nBoW Matrix:\\n\", X.toarray())"
   ]
  }
 ],
 "metadata": {
  "kernelspec": {
   "display_name": "Python [conda env:base] *",
   "language": "python",
   "name": "conda-base-py"
  },
  "language_info": {
   "codemirror_mode": {
    "name": "ipython",
    "version": 3
   },
   "file_extension": ".py",
   "mimetype": "text/x-python",
   "name": "python",
   "nbconvert_exporter": "python",
   "pygments_lexer": "ipython3",
   "version": "3.13.5"
  }
 },
 "nbformat": 4,
 "nbformat_minor": 5
}
